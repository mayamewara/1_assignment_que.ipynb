{
 "cells": [
  {
   "cell_type": "markdown",
   "id": "d1784cbb-7e9f-4de6-965e-5bc98022b25e",
   "metadata": {},
   "source": [
    "a for loop  genrally used when you know the number of iteration beforehand  \n"
   ]
  },
  {
   "cell_type": "code",
   "execution_count": 2,
   "id": "557339d7-524d-41fb-9c7c-f9a98c44fcf9",
   "metadata": {},
   "outputs": [
    {
     "name": "stdout",
     "output_type": "stream",
     "text": [
      "1\n",
      "2\n",
      "3\n",
      "4\n",
      "5\n"
     ]
    }
   ],
   "source": [
    "for i in range(1,6):\n",
    "    print(i)"
   ]
  },
  {
   "cell_type": "code",
   "execution_count": null,
   "id": "051468e4-1725-48d7-93a3-f44f9f6adb1d",
   "metadata": {},
   "outputs": [],
   "source": []
  },
  {
   "cell_type": "code",
   "execution_count": null,
   "id": "364f8c34-4f75-4fda-af42-56609fd1f048",
   "metadata": {},
   "outputs": [],
   "source": []
  },
  {
   "cell_type": "markdown",
   "id": "c7b32555-12b0-4ed3-ad73-1873489a5e72",
   "metadata": {},
   "source": [
    "a while loop used when the number of iteration is not know beforehand "
   ]
  },
  {
   "cell_type": "code",
   "execution_count": 1,
   "id": "da5db4e4-6675-48f9-98a8-5989a778477e",
   "metadata": {},
   "outputs": [
    {
     "name": "stdout",
     "output_type": "stream",
     "text": [
      "1\n",
      "2\n",
      "3\n",
      "4\n",
      "5\n"
     ]
    }
   ],
   "source": [
    "a = 1\n",
    "while a<=5:\n",
    "    print(a)\n",
    "    a = a+1"
   ]
  },
  {
   "cell_type": "code",
   "execution_count": null,
   "id": "38b4df53-25f1-45c9-9d7e-40f9193a1e03",
   "metadata": {},
   "outputs": [],
   "source": [
    "a = 1\n",
    "s = 0\n",
    "product = 1\n",
    "while a<=10:\n",
    "    s = s+"
   ]
  },
  {
   "cell_type": "markdown",
   "id": "0eb6f8f5-00b3-4430-80a2-9c2f18ba77e1",
   "metadata": {},
   "source": [
    "Q2. Write a python program to print the sum and product of the first 10 natural numbers using for\n",
    "and while loop."
   ]
  },
  {
   "cell_type": "code",
   "execution_count": 2,
   "id": "a5852967-dc35-45e0-a1aa-d6defeb0d119",
   "metadata": {},
   "outputs": [
    {
     "name": "stdout",
     "output_type": "stream",
     "text": [
      "using for loop\n",
      "55\n",
      "3628800\n"
     ]
    }
   ],
   "source": [
    "sum_for = 0\n",
    "product_for = 1\n",
    "for i in range(1,11):\n",
    "    sum_for += i\n",
    "    product_for *=i \n",
    "print(\"using for loop\")    \n",
    "print(sum_for) \n",
    "print(product_for)"
   ]
  },
  {
   "cell_type": "code",
   "execution_count": null,
   "id": "e55a6f92-c4ae-4e55-84e1-af745d49d554",
   "metadata": {},
   "outputs": [],
   "source": []
  },
  {
   "cell_type": "code",
   "execution_count": 6,
   "id": "d9ca8302-77ea-4a8b-8ad3-05bf1c587f34",
   "metadata": {},
   "outputs": [
    {
     "name": "stdout",
     "output_type": "stream",
     "text": [
      "using for loop\n",
      "55\n",
      "3628800\n"
     ]
    }
   ],
   "source": [
    "sum_for = 0\n",
    "product_for = 1\n",
    "counter = 1\n",
    "while counter<=10:\n",
    "        sum_for += counter\n",
    "        product_for *=counter\n",
    "        counter += 1 \n",
    "print(\"using while loop\")    \n",
    "print(sum_for) \n",
    "print(product_for)\n",
    "    "
   ]
  },
  {
   "cell_type": "code",
   "execution_count": null,
   "id": "e4e98561-2589-44f8-a85e-3a1f58e66147",
   "metadata": {},
   "outputs": [],
   "source": []
  },
  {
   "cell_type": "code",
   "execution_count": 5,
   "id": "5767a49e-2a48-490c-a5a6-9123101687be",
   "metadata": {},
   "outputs": [
    {
     "name": "stdin",
     "output_type": "stream",
     "text": [
      "Enter the number of units consumed:  310\n"
     ]
    },
    {
     "name": "stdout",
     "output_type": "stream",
     "text": [
      "Total bill: Rs. 2250.0\n"
     ]
    }
   ],
   "source": [
    "units = int(input(\"Enter the number of units consumed: \"))\n",
    "\n",
    "if units <= 100:\n",
    "    total_bill = units * 4.5\n",
    "elif units <= 200:\n",
    "    total_bill = 100 * 4.5 + (units - 100) * 6\n",
    "elif units <= 300:\n",
    "    total_bill = 100 * 4.5 + 100 * 6 + (units - 200) * 10\n",
    "else:\n",
    "    total_bill = 100 * 4.5 + 100 * 6 + 100 * 10 + (units - 300) * 20\n",
    "\n",
    "print(\"Total bill: Rs.\", total_bill)"
   ]
  },
  {
   "cell_type": "code",
   "execution_count": 6,
   "id": "03d83937-d1b8-449e-a5d1-2957057e792c",
   "metadata": {},
   "outputs": [
    {
     "name": "stdout",
     "output_type": "stream",
     "text": [
      "Numbers whose cubes are divisible by 4 or 5: [2, 4, 5, 6, 8, 10, 12, 14, 15, 16, 18, 20, 22, 24, 25, 26, 28, 30, 32, 34, 35, 36, 38, 40, 42, 44, 45, 46, 48, 50, 52, 54, 55, 56, 58, 60, 62, 64, 65, 66, 68, 70, 72, 74, 75, 76, 78, 80, 82, 84, 85, 86, 88, 90, 92, 94, 95, 96, 98, 100]\n"
     ]
    }
   ],
   "source": [
    "# Using for loop\n",
    "cubes_divisible_by_4_or_5 = []\n",
    "\n",
    "for num in range(1, 101):\n",
    "    cube = num ** 3\n",
    "    if cube % 4 == 0 or cube % 5 == 0:\n",
    "        cubes_divisible_by_4_or_5.append(num)\n",
    "\n",
    "print(\"Numbers whose cubes are divisible by 4 or 5:\", cubes_divisible_by_4_or_5)"
   ]
  },
  {
   "cell_type": "code",
   "execution_count": 3,
   "id": "0f49ac2c-5b88-4fa7-b95d-8032dbbecd82",
   "metadata": {},
   "outputs": [
    {
     "name": "stdout",
     "output_type": "stream",
     "text": [
      "nubers whose cubes are divisible by 4 or 5 [2, 4, 5, 6, 8, 10, 12, 14, 15, 16, 18, 20, 22, 24, 25, 26, 28, 30, 32, 34, 35, 36, 38, 40, 42, 44, 45, 46, 48, 50, 52, 54, 55, 56, 58, 60, 62, 64, 65, 66, 68, 70, 72, 74, 75, 76, 78, 80, 82, 84, 85, 86, 88, 90, 92, 94, 95, 96, 98, 100]\n"
     ]
    }
   ],
   "source": [
    "cube_list = []\n",
    "num = 1\n",
    "while num <=100:\n",
    "    cube = num **3\n",
    "    if cube % 4==0 or cube %5==0:\n",
    "        cube_list.append(num)\n",
    "    num += 1\n",
    "print(\"nubers whose cubes are divisible by 4 or 5\", cube_list)    \n",
    "    "
   ]
  },
  {
   "cell_type": "code",
   "execution_count": 4,
   "id": "2f759d86-dbbe-4e5b-807b-50abcf02be57",
   "metadata": {},
   "outputs": [
    {
     "name": "stdout",
     "output_type": "stream",
     "text": [
      "nubers whose cubes are divisible by 4 or 5 [2, 4, 5, 6, 8, 10, 12, 14, 15, 16, 18, 20, 22, 24, 25, 26, 28, 30, 32, 34, 35, 36, 38, 40, 42, 44, 45, 46, 48, 50, 52, 54, 55, 56, 58, 60, 62, 64, 65, 66, 68, 70, 72, 74, 75, 76, 78, 80, 82, 84, 85, 86, 88, 90, 92, 94, 95, 96, 98, 100]\n"
     ]
    }
   ],
   "source": [
    "cube_list = []\n",
    "for num in range(1,101):\n",
    "    cube = num **3\n",
    "    if cube % 4==0 or cube %5==0:\n",
    "        cube_list.append(num)\n",
    "print(\"nubers whose cubes are divisible by 4 or 5\", cube_list)    "
   ]
  },
  {
   "cell_type": "code",
   "execution_count": 3,
   "id": "1754b2a9-5c47-440a-b06b-fb8ce04c3b21",
   "metadata": {},
   "outputs": [
    {
     "name": "stdout",
     "output_type": "stream",
     "text": [
      "number of vowels in the string 12\n"
     ]
    }
   ],
   "source": [
    "string = \"I want to become a data scientist\"\n",
    "vowels = {'a', 'e','i','o','u'} # every item in the set is uniqe\n",
    "vowel_count = 0\n",
    "for char in string:\n",
    "    if char.lower() in vowels: # case insensitive comparison \n",
    "        vowel_count += 1\n",
    "print(\"number of vowels in the string\", vowel_count)        \n",
    "        "
   ]
  }
 ],
 "metadata": {
  "kernelspec": {
   "display_name": "Python 3 (ipykernel)",
   "language": "python",
   "name": "python3"
  },
  "language_info": {
   "codemirror_mode": {
    "name": "ipython",
    "version": 3
   },
   "file_extension": ".py",
   "mimetype": "text/x-python",
   "name": "python",
   "nbconvert_exporter": "python",
   "pygments_lexer": "ipython3",
   "version": "3.10.8"
  }
 },
 "nbformat": 4,
 "nbformat_minor": 5
}
